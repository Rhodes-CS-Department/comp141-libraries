{
 "cells": [
  {
   "cell_type": "code",
   "execution_count": null,
   "id": "active-compression",
   "metadata": {},
   "outputs": [],
   "source": [
    "from cs1.notebooks import *\n",
    "ok_login('p8.ok')"
   ]
  },
  {
   "cell_type": "code",
   "execution_count": null,
   "id": "incomplete-aside",
   "metadata": {},
   "outputs": [],
   "source": [
    "import os\n",
    "os.remove('p8.ok')"
   ]
  },
  {
   "cell_type": "code",
   "execution_count": null,
   "id": "suitable-kruger",
   "metadata": {},
   "outputs": [],
   "source": [
    "ep_file = os.path.join(os.path.expanduser(\"~\"), \".141_endpoint\")\n",
    "os.remove(ep_file)"
   ]
  },
  {
   "cell_type": "code",
   "execution_count": null,
   "id": "western-agenda",
   "metadata": {},
   "outputs": [],
   "source": []
  }
 ],
 "metadata": {
  "kernelspec": {
   "display_name": "Python 3",
   "language": "python",
   "name": "python3"
  },
  "language_info": {
   "codemirror_mode": {
    "name": "ipython",
    "version": 3
   },
   "file_extension": ".py",
   "mimetype": "text/x-python",
   "name": "python",
   "nbconvert_exporter": "python",
   "pygments_lexer": "ipython3",
   "version": "3.8.6"
  },
  "varInspector": {
   "cols": {
    "lenName": 16,
    "lenType": 16,
    "lenVar": 40
   },
   "kernels_config": {
    "python": {
     "delete_cmd_postfix": "",
     "delete_cmd_prefix": "del ",
     "library": "var_list.py",
     "varRefreshCmd": "print(var_dic_list())"
    },
    "r": {
     "delete_cmd_postfix": ") ",
     "delete_cmd_prefix": "rm(",
     "library": "var_list.r",
     "varRefreshCmd": "cat(var_dic_list()) "
    }
   },
   "types_to_exclude": [
    "module",
    "function",
    "builtin_function_or_method",
    "instance",
    "_Feature"
   ],
   "window_display": false
  }
 },
 "nbformat": 4,
 "nbformat_minor": 5
}
