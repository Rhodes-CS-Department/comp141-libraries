{
 "cells": [
  {
   "cell_type": "code",
   "execution_count": null,
   "id": "checked-preservation",
   "metadata": {},
   "outputs": [],
   "source": [
    "from cs1.ppm import *"
   ]
  },
  {
   "cell_type": "code",
   "execution_count": null,
   "id": "agricultural-costa",
   "metadata": {
    "scrolled": true
   },
   "outputs": [],
   "source": [
    "display_ppm('lynx.ppm')"
   ]
  },
  {
   "cell_type": "code",
   "execution_count": null,
   "id": "subject-significance",
   "metadata": {
    "scrolled": true
   },
   "outputs": [],
   "source": [
    "display_ppm('lynx_bad0.ppm')"
   ]
  },
  {
   "cell_type": "code",
   "execution_count": null,
   "id": "indian-copper",
   "metadata": {
    "scrolled": true
   },
   "outputs": [],
   "source": [
    "display_ppm('lynx_bad1.ppm')"
   ]
  },
  {
   "cell_type": "code",
   "execution_count": null,
   "id": "labeled-glenn",
   "metadata": {
    "scrolled": true
   },
   "outputs": [],
   "source": [
    "display_ppm('lynx_bad2.ppm')"
   ]
  },
  {
   "cell_type": "code",
   "execution_count": null,
   "id": "decimal-sussex",
   "metadata": {
    "scrolled": true
   },
   "outputs": [],
   "source": [
    "display_ppm('lynx_bad3.ppm')"
   ]
  },
  {
   "cell_type": "code",
   "execution_count": null,
   "id": "parental-forest",
   "metadata": {
    "scrolled": true
   },
   "outputs": [],
   "source": [
    "display_ppm('lynx_bad4.ppm')"
   ]
  },
  {
   "cell_type": "code",
   "execution_count": null,
   "id": "invisible-portal",
   "metadata": {
    "scrolled": true
   },
   "outputs": [],
   "source": [
    "display_ppm('lynx_bad5.ppm')"
   ]
  },
  {
   "cell_type": "code",
   "execution_count": null,
   "id": "computational-spyware",
   "metadata": {},
   "outputs": [],
   "source": [
    "display_ppm('lynx_bad6.ppm')"
   ]
  },
  {
   "cell_type": "code",
   "execution_count": null,
   "id": "fitting-applicant",
   "metadata": {},
   "outputs": [],
   "source": []
  }
 ],
 "metadata": {
  "kernelspec": {
   "display_name": "Python 3",
   "language": "python",
   "name": "python3"
  },
  "language_info": {
   "codemirror_mode": {
    "name": "ipython",
    "version": 3
   },
   "file_extension": ".py",
   "mimetype": "text/x-python",
   "name": "python",
   "nbconvert_exporter": "python",
   "pygments_lexer": "ipython3",
   "version": "3.8.6"
  },
  "varInspector": {
   "cols": {
    "lenName": 16,
    "lenType": 16,
    "lenVar": 40
   },
   "kernels_config": {
    "python": {
     "delete_cmd_postfix": "",
     "delete_cmd_prefix": "del ",
     "library": "var_list.py",
     "varRefreshCmd": "print(var_dic_list())"
    },
    "r": {
     "delete_cmd_postfix": ") ",
     "delete_cmd_prefix": "rm(",
     "library": "var_list.r",
     "varRefreshCmd": "cat(var_dic_list()) "
    }
   },
   "types_to_exclude": [
    "module",
    "function",
    "builtin_function_or_method",
    "instance",
    "_Feature"
   ],
   "window_display": false
  }
 },
 "nbformat": 4,
 "nbformat_minor": 5
}
