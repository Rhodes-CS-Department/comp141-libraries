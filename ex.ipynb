{
 "cells": [
  {
   "cell_type": "code",
   "execution_count": null,
   "id": "clear-shoot",
   "metadata": {},
   "outputs": [],
   "source": [
    "from cs1.ppm import *"
   ]
  },
  {
   "cell_type": "code",
   "execution_count": null,
   "id": "identified-clear",
   "metadata": {
    "scrolled": true
   },
   "outputs": [],
   "source": [
    "display_ppm('lynx.ppm')"
   ]
  },
  {
   "cell_type": "code",
   "execution_count": null,
   "id": "individual-warehouse",
   "metadata": {
    "scrolled": true
   },
   "outputs": [],
   "source": [
    "display_ppm('lynx_bad0.ppm')"
   ]
  },
  {
   "cell_type": "code",
   "execution_count": null,
   "id": "supreme-functionality",
   "metadata": {
    "scrolled": true
   },
   "outputs": [],
   "source": [
    "display_ppm('lynx_bad1.ppm')"
   ]
  },
  {
   "cell_type": "code",
   "execution_count": null,
   "id": "quality-rubber",
   "metadata": {
    "scrolled": true
   },
   "outputs": [],
   "source": [
    "display_ppm('lynx_bad2.ppm')"
   ]
  },
  {
   "cell_type": "code",
   "execution_count": null,
   "id": "sunset-teddy",
   "metadata": {
    "scrolled": true
   },
   "outputs": [],
   "source": [
    "display_ppm('lynx_bad3.ppm')"
   ]
  },
  {
   "cell_type": "code",
   "execution_count": null,
   "id": "starting-internet",
   "metadata": {
    "scrolled": true
   },
   "outputs": [],
   "source": [
    "display_ppm('lynx_bad4.ppm')"
   ]
  },
  {
   "cell_type": "code",
   "execution_count": null,
   "id": "unique-veteran",
   "metadata": {
    "scrolled": true
   },
   "outputs": [],
   "source": [
    "display_ppm('lynx_bad6.ppm')"
   ]
  },
  {
   "cell_type": "code",
   "execution_count": null,
   "id": "nearby-lightning",
   "metadata": {},
   "outputs": [],
   "source": []
  },
  {
   "cell_type": "code",
   "execution_count": null,
   "id": "passing-router",
   "metadata": {},
   "outputs": [],
   "source": []
  }
 ],
 "metadata": {
  "kernelspec": {
   "display_name": "Python 3",
   "language": "python",
   "name": "python3"
  },
  "language_info": {
   "codemirror_mode": {
    "name": "ipython",
    "version": 3
   },
   "file_extension": ".py",
   "mimetype": "text/x-python",
   "name": "python",
   "nbconvert_exporter": "python",
   "pygments_lexer": "ipython3",
   "version": "3.8.6"
  },
  "varInspector": {
   "cols": {
    "lenName": 16,
    "lenType": 16,
    "lenVar": 40
   },
   "kernels_config": {
    "python": {
     "delete_cmd_postfix": "",
     "delete_cmd_prefix": "del ",
     "library": "var_list.py",
     "varRefreshCmd": "print(var_dic_list())"
    },
    "r": {
     "delete_cmd_postfix": ") ",
     "delete_cmd_prefix": "rm(",
     "library": "var_list.r",
     "varRefreshCmd": "cat(var_dic_list()) "
    }
   },
   "types_to_exclude": [
    "module",
    "function",
    "builtin_function_or_method",
    "instance",
    "_Feature"
   ],
   "window_display": false
  }
 },
 "nbformat": 4,
 "nbformat_minor": 5
}
